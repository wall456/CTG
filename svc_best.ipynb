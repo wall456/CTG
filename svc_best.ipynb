{
  "nbformat": 4,
  "nbformat_minor": 0,
  "metadata": {
    "colab": {
      "name": "svc_best.ipynb",
      "provenance": [],
      "mount_file_id": "1ULMpje0C2_hvPY2RrvJ9Xo6my8gbu3IZ",
      "authorship_tag": "ABX9TyNw6qJmFr5VM03li/uqna9Z",
      "include_colab_link": true
    },
    "kernelspec": {
      "name": "python3",
      "display_name": "Python 3"
    }
  },
  "cells": [
    {
      "cell_type": "markdown",
      "metadata": {
        "id": "view-in-github",
        "colab_type": "text"
      },
      "source": [
        "<a href=\"https://colab.research.google.com/github/wall456/CTG/blob/main/svc_best.ipynb\" target=\"_parent\"><img src=\"https://colab.research.google.com/assets/colab-badge.svg\" alt=\"Open In Colab\"/></a>"
      ]
    },
    {
      "cell_type": "code",
      "metadata": {
        "id": "tZWWYKOHpahx"
      },
      "source": [
        "import pandas as pd\n",
        "import numpy as np\n",
        "from sklearn.model_selection import StratifiedShuffleSplit\n",
        "raw_data = pd.read_csv(\"/content/drive/My Drive/Colab Notebooks/Final_Project_DS1_2020/CTG.csv\")\n",
        "raw_data = raw_data.iloc[:-3]\n",
        "cleaned_data = raw_data.drop(columns=['LBE', 'SegFile', 'FileName', 'Date', 'DR', 'b', 'e', 'A', 'B', 'C', 'D', 'E', 'AD', 'DE', 'LD', 'FS', 'SUSP', 'CLASS', 'NSP'])\n",
        "X = cleaned_data\n",
        "y = raw_data['NSP']\n",
        "n, d = X.shape\n",
        "\n",
        "\n",
        "holdout_frac = 0.2\n",
        "holdout_splitter = StratifiedShuffleSplit(n_splits=1, test_size=holdout_frac, random_state=42)\n",
        "model_idx, holdout_idx = next(holdout_splitter.split(X, y))\n",
        "X_m, y_m = X.loc[model_idx], y.loc[model_idx]\n",
        "X_h, y_h = X.loc[holdout_idx], y.loc[holdout_idx]"
      ],
      "execution_count": null,
      "outputs": []
    },
    {
      "cell_type": "code",
      "metadata": {
        "id": "OibtISwfphMd"
      },
      "source": [
        "from sklearn.pipeline import Pipeline \n",
        "from sklearn.model_selection import GridSearchCV\n",
        "from sklearn.preprocessing import StandardScaler\n",
        "from sklearn.decomposition import PCA\n",
        "from sklearn.svm import SVC"
      ],
      "execution_count": null,
      "outputs": []
    },
    {
      "cell_type": "code",
      "metadata": {
        "id": "cbItiJEUpwtw"
      },
      "source": [
        "pipe = Pipeline([('scale', StandardScaler()),\n",
        "                 ('dim_reduce', PCA()),\n",
        "                 ('classify', SVC())\n",
        "                 ])\n",
        "hypers = {'dim_reduce__n_components': (1, 19),\n",
        "          'classify__kernel': ['rbf'],\n",
        "          'classify__C': (1, 100),\n",
        "          }\n",
        "grid = GridSearchCV(pipe, hypers, cv=10, scoring='f1_macro').fit(X_m, y_m)"
      ],
      "execution_count": null,
      "outputs": []
    },
    {
      "cell_type": "code",
      "metadata": {
        "id": "qnOlbmVAqdwp"
      },
      "source": [
        "res = grid.cv_results_\n",
        "df = pd.DataFrame(res['params'])\n",
        "df['score'] = res['mean_test_score']\n",
        "top = df['score'].max()\n",
        "mask = df['score'] >= top"
      ],
      "execution_count": null,
      "outputs": []
    },
    {
      "cell_type": "code",
      "metadata": {
        "id": "t9rinz8Dqts-",
        "colab": {
          "base_uri": "https://localhost:8080/",
          "height": 492
        },
        "outputId": "95a44b3c-86bb-4233-9488-02f3c5957078"
      },
      "source": [
        "from sklearn.metrics import confusion_matrix, f1_score\n",
        "import matplotlib.pyplot as plt\n",
        "import seaborn as sns\n",
        "def display_confusion_matrix(y_true, y_pred):\n",
        "    \"\"\"Pretty display for confusion matrix\"\"\"\n",
        "    labels = np.unique(y_true)\n",
        "    cf = confusion_matrix(y_true, y_pred, labels)\n",
        "    f1 = f1_score(y_true, y_pred, average='macro') * 100\n",
        "    df = pd.DataFrame(cf, columns=labels, index=labels)\n",
        "    df.index.name = 'Actual'\n",
        "    df.columns.name = 'Predicted'\n",
        "    plt.figure(figsize = (10,7))\n",
        "    plt.title(f'f1_macro={f1:.2f}%')\n",
        "    sns.set(font_scale=1.4)#for label size\n",
        "    sns.heatmap(df, annot=True,annot_kws={\"size\": 16})# font size\n",
        "    plt.show()\n",
        "\n",
        "\n",
        "    idx = y_true != y_pred\n",
        "    df_errors = pd.DataFrame()\n",
        "    df_errors['y_true'] = y_true[idx]\n",
        "    df_errors['y_pred'] = y_pred[idx]\n",
        "    #display(df_errors)\n",
        "    return df\n",
        "\n",
        "y_pred = grid.predict(X_h)\n",
        "display_confusion_matrix(y_h, y_pred)\n",
        "print(df[mask])"
      ],
      "execution_count": null,
      "outputs": [
        {
          "output_type": "display_data",
          "data": {
            "image/png": "[encoded data removed]",
            "text/plain": [
              "<Figure size 720x504 with 2 Axes>"
            ]
          },
          "metadata": {
            "tags": [],
            "needs_background": "light"
          }
        },
        {
          "output_type": "stream",
          "text": [
            "   classify__C classify__kernel  dim_reduce__n_components     score\n",
            "3          100              rbf                        19  0.876844\n"
          ],
          "name": "stdout"
        }
      ]
    }
  ]
}